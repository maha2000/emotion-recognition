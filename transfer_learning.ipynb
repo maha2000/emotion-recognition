{
  "nbformat": 4,
  "nbformat_minor": 0,
  "metadata": {
    "colab": {
      "name": "transfer_learning.ipynb",
      "provenance": [],
      "collapsed_sections": [],
      "include_colab_link": true
    },
    "kernelspec": {
      "name": "python3",
      "display_name": "Python 3"
    },
    "accelerator": "GPU"
  },
  "cells": [
    {
      "cell_type": "markdown",
      "metadata": {
        "id": "view-in-github",
        "colab_type": "text"
      },
      "source": [
        "<a href=\"https://colab.research.google.com/github/maha2000/emotion-recognition/blob/master/transfer_learning.ipynb\" target=\"_parent\"><img src=\"https://colab.research.google.com/assets/colab-badge.svg\" alt=\"Open In Colab\"/></a>"
      ]
    },
    {
      "cell_type": "code",
      "metadata": {
        "id": "ap-TxF7Eh6sA",
        "colab_type": "code",
        "colab": {}
      },
      "source": [
        "import numpy as np\n",
        "import pandas as pd\n",
        "import matplotlib.pyplot as plt\n",
        "\n",
        "import keras\n",
        "\n",
        "# For the model\n",
        "from keras.models import Model, Sequential\n",
        "from keras.layers import Dense, Conv2D, MaxPooling2D, Dropout, Flatten\n",
        "from keras.utils import np_utils\n",
        "from keras import regularizers\n",
        "from keras.callbacks import EarlyStopping\n",
        "from keras.applications.resnet50 import ResNet50\n",
        "from keras.applications.vgg16 import VGG16\n",
        "from keras.applications.vgg19 import VGG19\n",
        "from keras.applications.mobilenet import MobileNet\n",
        "\n",
        "\n",
        "# Loading models\n",
        "from keras.models import load_model\n",
        "\n",
        "# Image preprocessing\n",
        "from keras.preprocessing.image import ImageDataGenerator\n",
        "from keras import backend as kb\n",
        "\n",
        "# Confusion Matrix\n",
        "from sklearn.metrics import confusion_matrix\n",
        "\n",
        "# Utilities\n",
        "import h5py\n",
        "import itertools"
      ],
      "execution_count": 0,
      "outputs": []
    },
    {
      "cell_type": "code",
      "metadata": {
        "id": "1vgdFA0z7N74",
        "colab_type": "code",
        "colab": {}
      },
      "source": [
        "def plot_confusion_matrix(true, prediction, name):\n",
        "    cm = confusion_matrix(true.argmax(1), prediction.argmax(1))\n",
        "    cm = cm.astype('float') / cm.sum(axis=1)\n",
        "    \n",
        "    plt.imshow(cm, cmap=plt.cm.Blues, interpolation='nearest')\n",
        "    plt.title(name)\n",
        "    plt.colorbar()\n",
        "    tick_marks = np.arange(7)\n",
        "    plt.xticks(tick_marks, emotions, rotation=45)\n",
        "    plt.yticks(tick_marks, emotions)\n",
        "    \n",
        "    thresh = cm.max()/1.5\n",
        "    for i, j in itertools.product(range(cm.shape[0]), range(cm.shape[1])):\n",
        "        plt.text(j, i, format(cm[i, j], '.2f'),\n",
        "                 horizontalalignment=\"center\",\n",
        "                 color=\"white\" if cm[i, j] > thresh else \"black\")\n",
        "\n",
        "    plt.tight_layout()\n",
        "    plt.ylabel('True label')\n",
        "    plt.xlabel('Predicted label')\n",
        "    plt.savefig(name + \".jpg\", dpi=300)"
      ],
      "execution_count": 0,
      "outputs": []
    },
    {
      "cell_type": "code",
      "metadata": {
        "id": "2CUq1OdanAQf",
        "colab_type": "code",
        "colab": {}
      },
      "source": [
        "seed = 7\n",
        "np.random.seed(seed)"
      ],
      "execution_count": 0,
      "outputs": []
    },
    {
      "cell_type": "code",
      "metadata": {
        "id": "yrR_SVuEvvpy",
        "colab_type": "code",
        "colab": {}
      },
      "source": [
        "emotions = ['angry', 'disgusted', 'fearful', 'happy', 'sad', 'surprised', 'neutral']"
      ],
      "execution_count": 0,
      "outputs": []
    },
    {
      "cell_type": "code",
      "metadata": {
        "id": "-kcF6TWjv0Ff",
        "colab_type": "code",
        "colab": {}
      },
      "source": [
        "X = np.load('/content/drive/My Drive/emotion-recognition/features.npy') # features\n",
        "y = np.load('/content/drive/My Drive/emotion-recognition/labels.npy') # labels"
      ],
      "execution_count": 0,
      "outputs": []
    },
    {
      "cell_type": "code",
      "metadata": {
        "id": "SBn1fICvv4GG",
        "colab_type": "code",
        "colab": {
          "base_uri": "https://localhost:8080/",
          "height": 89
        },
        "outputId": "b2978e56-1a82-475e-e6c9-9514ff0279df"
      },
      "source": [
        "X = X.reshape(X.shape[0], 48, 48)\n",
        "X = np.expand_dims(X, axis=4)\n",
        "y = np_utils.to_categorical(y, num_classes=7)\n",
        "print(X.shape, y.shape)"
      ],
      "execution_count": 109,
      "outputs": [
        {
          "output_type": "stream",
          "text": [
            "(35887, 48, 48, 1) (35887, 7)\n"
          ],
          "name": "stdout"
        },
        {
          "output_type": "stream",
          "text": [
            "/usr/local/lib/python3.6/dist-packages/ipykernel_launcher.py:2: DeprecationWarning: Both axis > a.ndim and axis < -a.ndim - 1 are deprecated and will raise an AxisError in the future.\n",
            "  \n"
          ],
          "name": "stderr"
        }
      ]
    },
    {
      "cell_type": "code",
      "metadata": {
        "id": "_LCHDtZ_nI1f",
        "colab_type": "code",
        "colab": {
          "base_uri": "https://localhost:8080/",
          "height": 287
        },
        "outputId": "9069a205-9ade-4c04-bfa8-bdc040fc0700"
      },
      "source": [
        "X_test = X[28709:]\n",
        "X_train = X[:28709]\n",
        "y_test = y[28709:]\n",
        "y_train = y[:28709]\n",
        "sample = X_train[500].reshape(48, 48)\n",
        "plt.imshow(sample,interpolation=None,cmap='gray')"
      ],
      "execution_count": 110,
      "outputs": [
        {
          "output_type": "execute_result",
          "data": {
            "text/plain": [
              "<matplotlib.image.AxesImage at 0x7fcf2d6d2d30>"
            ]
          },
          "metadata": {
            "tags": []
          },
          "execution_count": 110
        },
        {
          "output_type": "display_data",
          "data": {
            "image/png": "[encoded data removed]",
            "text/plain": [
              "<Figure size 432x288 with 1 Axes>"
            ]
          },
          "metadata": {
            "tags": []
          }
        }
      ]
    },
    {
      "cell_type": "code",
      "metadata": {
        "id": "qro4vb7O9NSf",
        "colab_type": "code",
        "colab": {}
      },
      "source": [
        "X_train_trial=np.zeros((28709,48,48,3))\n",
        "X_test_trial=np.zeros((7178,48,48,3))\n",
        "\n",
        "for i in range(len(X_train_trial)):\n",
        "  X_train_trial[i] = np.stack((X_train[i].reshape(48,48),)*3, axis=-1)\n",
        "for j in range(len(X_test_trial)):\n",
        "  X_test_trial[j] = np.stack((X_test[j].reshape(48,48),)*3, axis=-1)"
      ],
      "execution_count": 0,
      "outputs": []
    },
    {
      "cell_type": "markdown",
      "metadata": {
        "id": "oIIVEHe-3ABV",
        "colab_type": "text"
      },
      "source": [
        "# Resnet50\n"
      ]
    },
    {
      "cell_type": "code",
      "metadata": {
        "id": "ezl2ct0WnrOZ",
        "colab_type": "code",
        "colab": {
          "base_uri": "https://localhost:8080/",
          "height": 72
        },
        "outputId": "457fc86e-c1c6-4913-b46a-4347efce3462"
      },
      "source": [
        "# img_input = Input(shape=(48,48,1))\n",
        "# img_conc = Concatenate()([img_input, img_input, img_input])\n",
        "# model=ResNet50(include_top=False, weights='imagenet',input_tensor=img_conc,input_shape=(48,48,3))\n",
        "\n",
        "model=ResNet50(include_top=False, weights='imagenet',input_shape=(48,48,3))\n",
        "model.layers.pop()\n",
        "for layer in model.layers:\n",
        "  layer.trainable = False\n",
        "\n",
        "x = model.output\n",
        "x = Flatten(name='flatten')(x)\n",
        "x = Dense(1024, activation='sigmoid', kernel_regularizer=regularizers.l2(0.001)) (x)\n",
        "x = Dropout(0.5) (x)\n",
        "predictions = Dense(7, activation='softmax', name='predictions')(x)\n",
        "\n",
        "top_model = Model(inputs=model.input, outputs=predictions)\n"
      ],
      "execution_count": 115,
      "outputs": [
        {
          "output_type": "stream",
          "text": [
            "/usr/local/lib/python3.6/dist-packages/keras_applications/resnet50.py:265: UserWarning: The output shape of `ResNet50(include_top=False)` has been changed since Keras 2.2.0.\n",
            "  warnings.warn('The output shape of `ResNet50(include_top=False)` '\n"
          ],
          "name": "stderr"
        }
      ]
    },
    {
      "cell_type": "code",
      "metadata": {
        "id": "3kM0i69IpUtL",
        "colab_type": "code",
        "colab": {}
      },
      "source": [
        "top_model.compile(loss='categorical_crossentropy',\n",
        "optimizer='adam',\n",
        "metrics=['accuracy'])"
      ],
      "execution_count": 0,
      "outputs": []
    },
    {
      "cell_type": "code",
      "metadata": {
        "id": "S9nF-EGOqrdc",
        "colab_type": "code",
        "colab": {
          "base_uri": "https://localhost:8080/",
          "height": 401
        },
        "outputId": "88d09fb0-5fca-4500-d50e-ffa5cc2a3b83"
      },
      "source": [
        " new_model = top_model.fit(X_train_trial, y_train, batch_size=96, epochs=10, verbose=1, validation_data=(X_test_trial, y_test))"
      ],
      "execution_count": 117,
      "outputs": [
        {
          "output_type": "stream",
          "text": [
            "Train on 28709 samples, validate on 7178 samples\n",
            "Epoch 1/10\n",
            "28709/28709 [==============================] - 43s 1ms/step - loss: 2.8977 - acc: 0.3262 - val_loss: 2.4383 - val_acc: 0.3140\n",
            "Epoch 2/10\n",
            "28709/28709 [==============================] - 30s 1ms/step - loss: 2.2635 - acc: 0.3916 - val_loss: 2.6057 - val_acc: 0.2831\n",
            "Epoch 3/10\n",
            "28709/28709 [==============================] - 30s 1ms/step - loss: 2.2168 - acc: 0.3967 - val_loss: 2.4799 - val_acc: 0.2887\n",
            "Epoch 4/10\n",
            "28709/28709 [==============================] - 30s 1ms/step - loss: 2.2016 - acc: 0.3937 - val_loss: 2.4428 - val_acc: 0.3023\n",
            "Epoch 5/10\n",
            "28709/28709 [==============================] - 30s 1ms/step - loss: 2.1651 - acc: 0.3997 - val_loss: 2.3331 - val_acc: 0.3217\n",
            "Epoch 6/10\n",
            "28709/28709 [==============================] - 30s 1ms/step - loss: 2.1390 - acc: 0.4017 - val_loss: 2.4240 - val_acc: 0.3238\n",
            "Epoch 7/10\n",
            "28709/28709 [==============================] - 30s 1ms/step - loss: 2.1303 - acc: 0.3988 - val_loss: 2.6039 - val_acc: 0.2958\n",
            "Epoch 8/10\n",
            "28709/28709 [==============================] - 30s 1ms/step - loss: 2.1113 - acc: 0.4002 - val_loss: 2.2725 - val_acc: 0.3178\n",
            "Epoch 9/10\n",
            "28709/28709 [==============================] - 30s 1ms/step - loss: 2.0914 - acc: 0.4027 - val_loss: 2.3106 - val_acc: 0.3062\n",
            "Epoch 10/10\n",
            "28709/28709 [==============================] - 30s 1ms/step - loss: 2.0773 - acc: 0.4067 - val_loss: 2.2689 - val_acc: 0.3286\n"
          ],
          "name": "stdout"
        }
      ]
    },
    {
      "cell_type": "code",
      "metadata": {
        "id": "AT_ncu0u3kza",
        "colab_type": "code",
        "colab": {
          "base_uri": "https://localhost:8080/",
          "height": 35
        },
        "outputId": "43c7d1d7-7abb-45fa-d975-633585e3a521"
      },
      "source": [
        "scores = top_model.evaluate(X_test_trial, y_test)"
      ],
      "execution_count": 119,
      "outputs": [
        {
          "output_type": "stream",
          "text": [
            "7178/7178 [==============================] - 9s 1ms/step\n"
          ],
          "name": "stdout"
        }
      ]
    },
    {
      "cell_type": "code",
      "metadata": {
        "id": "5_139_Ev5UyZ",
        "colab_type": "code",
        "colab": {
          "base_uri": "https://localhost:8080/",
          "height": 35
        },
        "outputId": "fc37a72a-2e99-4a5b-9a72-754d35bec776"
      },
      "source": [
        "print(\"Accuracy: \", scores[1]*100, \"%\")"
      ],
      "execution_count": 120,
      "outputs": [
        {
          "output_type": "stream",
          "text": [
            "Accuracy:  32.864307607406026 %\n"
          ],
          "name": "stdout"
        }
      ]
    },
    {
      "cell_type": "code",
      "metadata": {
        "id": "KIizPpUEwA2U",
        "colab_type": "code",
        "colab": {}
      },
      "source": [
        "top_model.save('resnet50_epoch10_bs96.h5')"
      ],
      "execution_count": 0,
      "outputs": []
    },
    {
      "cell_type": "code",
      "metadata": {
        "id": "pgWC4arTxgl6",
        "colab_type": "code",
        "colab": {
          "base_uri": "https://localhost:8080/",
          "height": 35
        },
        "outputId": "a671ec08-4d02-4f97-e69e-cf08874ab287"
      },
      "source": [
        "y_test[0].shape"
      ],
      "execution_count": 153,
      "outputs": [
        {
          "output_type": "execute_result",
          "data": {
            "text/plain": [
              "(7,)"
            ]
          },
          "metadata": {
            "tags": []
          },
          "execution_count": 153
        }
      ]
    },
    {
      "cell_type": "code",
      "metadata": {
        "id": "EKeMDmSL7xzO",
        "colab_type": "code",
        "colab": {
          "base_uri": "https://localhost:8080/",
          "height": 35
        },
        "outputId": "20afd882-a324-4d80-e159-69fca3d95536"
      },
      "source": [
        "y_pred=top_model.predict(X_test_trial,verbose=1)"
      ],
      "execution_count": 158,
      "outputs": [
        {
          "output_type": "stream",
          "text": [
            "7178/7178 [==============================] - 9s 1ms/step\n"
          ],
          "name": "stdout"
        }
      ]
    },
    {
      "cell_type": "code",
      "metadata": {
        "id": "Qs1unzLM9vHe",
        "colab_type": "code",
        "colab": {
          "base_uri": "https://localhost:8080/",
          "height": 52
        },
        "outputId": "fa22f739-65f6-41c0-cc41-c931c9ff02fe"
      },
      "source": [
        "y_pred[0]"
      ],
      "execution_count": 156,
      "outputs": [
        {
          "output_type": "execute_result",
          "data": {
            "text/plain": [
              "array([0.10926208, 0.00780863, 0.30219272, 0.09809895, 0.02088534,\n",
              "       0.41804957, 0.04370268], dtype=float32)"
            ]
          },
          "metadata": {
            "tags": []
          },
          "execution_count": 156
        }
      ]
    },
    {
      "cell_type": "code",
      "metadata": {
        "id": "K1LU07h0xrGG",
        "colab_type": "code",
        "colab": {
          "base_uri": "https://localhost:8080/",
          "height": 311
        },
        "outputId": "ccb43352-5fbf-4871-deef-095fa43ece4d"
      },
      "source": [
        "plot_confusion_matrix(y_test, y_pred, \"Resnet50\")"
      ],
      "execution_count": 162,
      "outputs": [
        {
          "output_type": "display_data",
          "data": {
            "image/png": "[encoded data removed]",
            "text/plain": [
              "<Figure size 432x288 with 2 Axes>"
            ]
          },
          "metadata": {
            "tags": []
          }
        }
      ]
    },
    {
      "cell_type": "markdown",
      "metadata": {
        "id": "EujWZvi33IeB",
        "colab_type": "text"
      },
      "source": [
        "# VGG16"
      ]
    },
    {
      "cell_type": "code",
      "metadata": {
        "id": "o9cFPLRv3Ohc",
        "colab_type": "code",
        "colab": {}
      },
      "source": [
        "model=VGG16(include_top=False, weights='imagenet',input_shape=(48,48,3))\n",
        "model.layers.pop() \n",
        "for layer in model.layers:\n",
        "  layer.trainable = False\n",
        "\n",
        "x = model.output\n",
        "#x = MaxPooling2D((2,2), strides=(2,2), padding='same')(x)\n",
        "x = Flatten(name='flatten')(x)\n",
        "x = Dense(1024, activation='sigmoid', kernel_regularizer=regularizers.l2(0.001)) (x)\n",
        "x= Dropout(0.5) (x)\n",
        "prediction = Dense(7, activation='softmax', name='predictions')(x)\n",
        "\n",
        "top_model = Model(inputs=model.input, outputs=prediction)\n"
      ],
      "execution_count": 0,
      "outputs": []
    },
    {
      "cell_type": "code",
      "metadata": {
        "id": "mfHYTehV3PeL",
        "colab_type": "code",
        "colab": {}
      },
      "source": [
        "top_model.compile(loss='categorical_crossentropy',\n",
        "optimizer='adam',\n",
        "metrics=['accuracy'])"
      ],
      "execution_count": 0,
      "outputs": []
    },
    {
      "cell_type": "code",
      "metadata": {
        "id": "R-oNlWaXJKgi",
        "colab_type": "code",
        "colab": {
          "base_uri": "https://localhost:8080/",
          "height": 401
        },
        "outputId": "43ebc63a-9cf7-4f5a-a39c-3eaead0516da"
      },
      "source": [
        "new_model = top_model.fit(X_train_trial, y_train, batch_size=128, epochs=10, verbose=1, validation_data=(X_test_trial, y_test))"
      ],
      "execution_count": 167,
      "outputs": [
        {
          "output_type": "stream",
          "text": [
            "Train on 28709 samples, validate on 7178 samples\n",
            "Epoch 1/10\n",
            "28709/28709 [==============================] - 34s 1ms/step - loss: 2.1967 - acc: 0.3242 - val_loss: 1.8713 - val_acc: 0.3915\n",
            "Epoch 2/10\n",
            "28709/28709 [==============================] - 22s 759us/step - loss: 1.8567 - acc: 0.3858 - val_loss: 1.7582 - val_acc: 0.4097\n",
            "Epoch 3/10\n",
            "28709/28709 [==============================] - 22s 760us/step - loss: 1.7548 - acc: 0.4060 - val_loss: 1.7126 - val_acc: 0.4276\n",
            "Epoch 4/10\n",
            "28709/28709 [==============================] - 22s 760us/step - loss: 1.7027 - acc: 0.4167 - val_loss: 1.6952 - val_acc: 0.4128\n",
            "Epoch 5/10\n",
            "28709/28709 [==============================] - 22s 754us/step - loss: 1.6805 - acc: 0.4213 - val_loss: 1.6743 - val_acc: 0.4224\n",
            "Epoch 6/10\n",
            "28709/28709 [==============================] - 22s 759us/step - loss: 1.6604 - acc: 0.4243 - val_loss: 1.6612 - val_acc: 0.4210\n",
            "Epoch 7/10\n",
            "28709/28709 [==============================] - 22s 761us/step - loss: 1.6504 - acc: 0.4273 - val_loss: 1.6557 - val_acc: 0.4264\n",
            "Epoch 8/10\n",
            "28709/28709 [==============================] - 22s 767us/step - loss: 1.6466 - acc: 0.4273 - val_loss: 1.6523 - val_acc: 0.4276\n",
            "Epoch 9/10\n",
            "28709/28709 [==============================] - 22s 770us/step - loss: 1.6344 - acc: 0.4328 - val_loss: 1.6642 - val_acc: 0.4228\n",
            "Epoch 10/10\n",
            "28709/28709 [==============================] - 22s 758us/step - loss: 1.6229 - acc: 0.4390 - val_loss: 1.6501 - val_acc: 0.4255\n"
          ],
          "name": "stdout"
        }
      ]
    },
    {
      "cell_type": "code",
      "metadata": {
        "id": "vmX6yBr3_Mb2",
        "colab_type": "code",
        "colab": {
          "base_uri": "https://localhost:8080/",
          "height": 35
        },
        "outputId": "d690791a-6883-4978-af30-2103504581c6"
      },
      "source": [
        "scores = top_model.evaluate(X_test_trial, y_test)"
      ],
      "execution_count": 168,
      "outputs": [
        {
          "output_type": "stream",
          "text": [
            "7178/7178 [==============================] - 7s 998us/step\n"
          ],
          "name": "stdout"
        }
      ]
    },
    {
      "cell_type": "code",
      "metadata": {
        "id": "b1QABmZx_NMV",
        "colab_type": "code",
        "colab": {
          "base_uri": "https://localhost:8080/",
          "height": 35
        },
        "outputId": "9a32ea96-7670-466c-9c72-67e8b7a31012"
      },
      "source": [
        "print(\"Accuracy: \", scores[1]*100, \"%\")"
      ],
      "execution_count": 169,
      "outputs": [
        {
          "output_type": "stream",
          "text": [
            "Accuracy:  42.54667038255231 %\n"
          ],
          "name": "stdout"
        }
      ]
    },
    {
      "cell_type": "code",
      "metadata": {
        "id": "uxJS-zs3_SiF",
        "colab_type": "code",
        "colab": {}
      },
      "source": [
        "top_model.save('vgg16_epoch10_bs128.h5')"
      ],
      "execution_count": 0,
      "outputs": []
    },
    {
      "cell_type": "code",
      "metadata": {
        "id": "IIDh4m-e_WXR",
        "colab_type": "code",
        "colab": {
          "base_uri": "https://localhost:8080/",
          "height": 35
        },
        "outputId": "eca7b419-a57c-433d-b8d5-560997569e7f"
      },
      "source": [
        "y_pred=top_model.predict(X_test_trial,verbose=1)"
      ],
      "execution_count": 171,
      "outputs": [
        {
          "output_type": "stream",
          "text": [
            "7178/7178 [==============================] - 11s 2ms/step\n"
          ],
          "name": "stdout"
        }
      ]
    },
    {
      "cell_type": "code",
      "metadata": {
        "id": "QOopj7bz_cMz",
        "colab_type": "code",
        "colab": {
          "base_uri": "https://localhost:8080/",
          "height": 311
        },
        "outputId": "d4113a0b-e16e-4be9-cab6-d48cd66af989"
      },
      "source": [
        "plot_confusion_matrix(y_test, y_pred, \"vgg16\")"
      ],
      "execution_count": 174,
      "outputs": [
        {
          "output_type": "display_data",
          "data": {
            "image/png": "[encoded data removed]",
            "text/plain": [
              "<Figure size 432x288 with 2 Axes>"
            ]
          },
          "metadata": {
            "tags": []
          }
        }
      ]
    },
    {
      "cell_type": "markdown",
      "metadata": {
        "id": "ExoNhqVbVCgz",
        "colab_type": "text"
      },
      "source": [
        "# VGG19"
      ]
    },
    {
      "cell_type": "code",
      "metadata": {
        "id": "1csX0IGKVRAf",
        "colab_type": "code",
        "colab": {}
      },
      "source": [
        "model=VGG19(include_top=False, weights='imagenet',input_shape=(48,48,3))\n",
        "model.layers.pop()\n",
        "for layer in model.layers:\n",
        "  layer.trainable = False\n",
        "\n",
        "x = model.output\n",
        "#x = MaxPooling2D((2,2), strides=(2,2), padding='same')(x)\n",
        "x = Flatten(name='flatten')(x)\n",
        "x = Dense(1024, activation='sigmoid', kernel_regularizer=regularizers.l2(0.001)) (x)\n",
        "x= Dropout(0.5) (x2)\n",
        "predictions = Dense(7, activation='softmax', name='predictions')(x)\n",
        "\n",
        "top_model = Model(inputs=model.input, outputs=predictions)\n",
        "top_model.compile(loss='categorical_crossentropy', optimizer='adam', metrics=['accuracy'])"
      ],
      "execution_count": 0,
      "outputs": []
    },
    {
      "cell_type": "code",
      "metadata": {
        "id": "qHlbirh1VneU",
        "colab_type": "code",
        "colab": {
          "base_uri": "https://localhost:8080/",
          "height": 401
        },
        "outputId": "fbaf6511-a2f5-45ac-eb64-4e0c06560d03"
      },
      "source": [
        "new_model = top_model.fit(X_train_trial, y_train, batch_size=128, epochs=10, verbose=1, validation_data=(X_test_trial, y_test))"
      ],
      "execution_count": 176,
      "outputs": [
        {
          "output_type": "stream",
          "text": [
            "Train on 28709 samples, validate on 7178 samples\n",
            "Epoch 1/10\n",
            "28709/28709 [==============================] - 38s 1ms/step - loss: 2.4332 - acc: 0.2849 - val_loss: 1.9375 - val_acc: 0.3760\n",
            "Epoch 2/10\n",
            "28709/28709 [==============================] - 26s 897us/step - loss: 1.9723 - acc: 0.3475 - val_loss: 1.8404 - val_acc: 0.3965\n",
            "Epoch 3/10\n",
            "28709/28709 [==============================] - 26s 900us/step - loss: 1.8616 - acc: 0.3700 - val_loss: 1.7725 - val_acc: 0.3994\n",
            "Epoch 4/10\n",
            "28709/28709 [==============================] - 26s 897us/step - loss: 1.8079 - acc: 0.3749 - val_loss: 1.7407 - val_acc: 0.4061\n",
            "Epoch 5/10\n",
            "28709/28709 [==============================] - 26s 898us/step - loss: 1.7774 - acc: 0.3804 - val_loss: 1.7293 - val_acc: 0.4012\n",
            "Epoch 6/10\n",
            "28709/28709 [==============================] - 26s 895us/step - loss: 1.7635 - acc: 0.3773 - val_loss: 1.7146 - val_acc: 0.3955\n",
            "Epoch 7/10\n",
            "28709/28709 [==============================] - 26s 896us/step - loss: 1.7548 - acc: 0.3786 - val_loss: 1.7049 - val_acc: 0.3994\n",
            "Epoch 8/10\n",
            "28709/28709 [==============================] - 26s 895us/step - loss: 1.7396 - acc: 0.3819 - val_loss: 1.6958 - val_acc: 0.4022\n",
            "Epoch 9/10\n",
            "28709/28709 [==============================] - 26s 896us/step - loss: 1.7496 - acc: 0.3769 - val_loss: 1.6972 - val_acc: 0.4058\n",
            "Epoch 10/10\n",
            "28709/28709 [==============================] - 26s 896us/step - loss: 1.7442 - acc: 0.3757 - val_loss: 1.6984 - val_acc: 0.4037\n"
          ],
          "name": "stdout"
        }
      ]
    },
    {
      "cell_type": "code",
      "metadata": {
        "id": "NYwtN0AoBokF",
        "colab_type": "code",
        "colab": {
          "base_uri": "https://localhost:8080/",
          "height": 35
        },
        "outputId": "a957d3bd-0abf-457d-98cf-060fd7470c13"
      },
      "source": [
        "scores = top_model.evaluate(X_test_trial, y_test)"
      ],
      "execution_count": 177,
      "outputs": [
        {
          "output_type": "stream",
          "text": [
            "7178/7178 [==============================] - 8s 1ms/step\n"
          ],
          "name": "stdout"
        }
      ]
    },
    {
      "cell_type": "code",
      "metadata": {
        "id": "9d27Jl4yBozX",
        "colab_type": "code",
        "colab": {
          "base_uri": "https://localhost:8080/",
          "height": 35
        },
        "outputId": "8b6bffd6-02f0-4480-de28-7d1df94f1361"
      },
      "source": [
        "print(\"Accuracy: \", scores[1]*100, \"%\")"
      ],
      "execution_count": 178,
      "outputs": [
        {
          "output_type": "stream",
          "text": [
            "Accuracy:  40.373363054605804 %\n"
          ],
          "name": "stdout"
        }
      ]
    },
    {
      "cell_type": "code",
      "metadata": {
        "id": "uiZd2eYdBpCU",
        "colab_type": "code",
        "colab": {}
      },
      "source": [
        "top_model.save('vgg19_epoch10_bs128.h5')"
      ],
      "execution_count": 0,
      "outputs": []
    },
    {
      "cell_type": "code",
      "metadata": {
        "id": "-itp7H1aBpPg",
        "colab_type": "code",
        "colab": {
          "base_uri": "https://localhost:8080/",
          "height": 35
        },
        "outputId": "61d60ecd-49ab-4312-f791-6ba0798f8f44"
      },
      "source": [
        "y_pred=top_model.predict(X_test_trial,verbose=1)"
      ],
      "execution_count": 180,
      "outputs": [
        {
          "output_type": "stream",
          "text": [
            "7178/7178 [==============================] - 13s 2ms/step\n"
          ],
          "name": "stdout"
        }
      ]
    },
    {
      "cell_type": "code",
      "metadata": {
        "id": "b0038cYEBx4V",
        "colab_type": "code",
        "colab": {
          "base_uri": "https://localhost:8080/",
          "height": 311
        },
        "outputId": "278a70dc-0a0b-4548-ca4e-0b203444cc27"
      },
      "source": [
        "plot_confusion_matrix(y_test, y_pred, \"vgg19\")"
      ],
      "execution_count": 181,
      "outputs": [
        {
          "output_type": "display_data",
          "data": {
            "image/png": "[encoded data removed]",
            "text/plain": [
              "<Figure size 432x288 with 2 Axes>"
            ]
          },
          "metadata": {
            "tags": []
          }
        }
      ]
    },
    {
      "cell_type": "markdown",
      "metadata": {
        "id": "A5YxfWRhh8ia",
        "colab_type": "text"
      },
      "source": [
        "# MobileNet"
      ]
    },
    {
      "cell_type": "code",
      "metadata": {
        "id": "Kpg6xP17DqA4",
        "colab_type": "code",
        "colab": {
          "base_uri": "https://localhost:8080/",
          "height": 72
        },
        "outputId": "89190d93-3631-4648-f5e5-14316c97e838"
      },
      "source": [
        "model=MobileNet(include_top=False, weights='imagenet',input_shape=(48,48,3))\n",
        "model.layers.pop() \n",
        "for layer in model.layers:\n",
        "  layer.trainable = False\n",
        "\n",
        "x = model.output\n",
        "#x = MaxPooling2D((2,2), strides=(2,2), padding='same')(x)\n",
        "x = Flatten(name='flatten')(x)\n",
        "x = Dense(1024, activation='sigmoid', kernel_regularizer=regularizers.l2(0.001)) (x)\n",
        "x= Dropout(0.5) (x)\n",
        "prediction = Dense(7, activation='softmax', name='predictions')(x)\n",
        "\n",
        "top_model = Model(inputs=model.input, outputs=prediction)"
      ],
      "execution_count": 184,
      "outputs": [
        {
          "output_type": "stream",
          "text": [
            "/usr/local/lib/python3.6/dist-packages/keras_applications/mobilenet.py:207: UserWarning: `input_shape` is undefined or non-square, or `rows` is not in [128, 160, 192, 224]. Weights for input shape (224, 224) will be loaded as the default.\n",
            "  warnings.warn('`input_shape` is undefined or non-square, '\n"
          ],
          "name": "stderr"
        }
      ]
    },
    {
      "cell_type": "code",
      "metadata": {
        "id": "sHTOmtLsDsNv",
        "colab_type": "code",
        "colab": {
          "base_uri": "https://localhost:8080/",
          "height": 401
        },
        "outputId": "55787f76-b682-430d-a00a-a74153784693"
      },
      "source": [
        "top_model.compile(loss='categorical_crossentropy', optimizer='adam', metrics=['accuracy'])\n",
        "new_model = top_model.fit(X_train_trial, y_train, batch_size=128, epochs=10, verbose=1, validation_data=(X_test_trial, y_test))"
      ],
      "execution_count": 186,
      "outputs": [
        {
          "output_type": "stream",
          "text": [
            "Train on 28709 samples, validate on 7178 samples\n",
            "Epoch 1/10\n",
            "28709/28709 [==============================] - 23s 796us/step - loss: 2.5444 - acc: 0.3111 - val_loss: 2.3800 - val_acc: 0.2473\n",
            "Epoch 2/10\n",
            "28709/28709 [==============================] - 8s 296us/step - loss: 2.0187 - acc: 0.3594 - val_loss: 2.1559 - val_acc: 0.2471\n",
            "Epoch 3/10\n",
            "28709/28709 [==============================] - 9s 301us/step - loss: 1.8433 - acc: 0.3681 - val_loss: 2.0962 - val_acc: 0.2469\n",
            "Epoch 4/10\n",
            "28709/28709 [==============================] - 9s 300us/step - loss: 1.7837 - acc: 0.3682 - val_loss: 2.0757 - val_acc: 0.1718\n",
            "Epoch 5/10\n",
            "28709/28709 [==============================] - 9s 311us/step - loss: 1.7657 - acc: 0.3664 - val_loss: 2.0488 - val_acc: 0.2437\n",
            "Epoch 6/10\n",
            "28709/28709 [==============================] - 9s 302us/step - loss: 1.7586 - acc: 0.3654 - val_loss: 2.0594 - val_acc: 0.2471\n",
            "Epoch 7/10\n",
            "28709/28709 [==============================] - 9s 308us/step - loss: 1.7462 - acc: 0.3710 - val_loss: 1.9929 - val_acc: 0.2452\n",
            "Epoch 8/10\n",
            "28709/28709 [==============================] - 9s 308us/step - loss: 1.7501 - acc: 0.3726 - val_loss: 2.0127 - val_acc: 0.2413\n",
            "Epoch 9/10\n",
            "28709/28709 [==============================] - 9s 317us/step - loss: 1.7463 - acc: 0.3774 - val_loss: 2.0162 - val_acc: 0.1427\n",
            "Epoch 10/10\n",
            "28709/28709 [==============================] - 9s 320us/step - loss: 1.7414 - acc: 0.3739 - val_loss: 2.0201 - val_acc: 0.1427\n"
          ],
          "name": "stdout"
        }
      ]
    },
    {
      "cell_type": "code",
      "metadata": {
        "id": "M1EJS2LwDxi8",
        "colab_type": "code",
        "colab": {
          "base_uri": "https://localhost:8080/",
          "height": 35
        },
        "outputId": "8aad47ed-494a-459e-d293-22254e6768e3"
      },
      "source": [
        "scores = top_model.evaluate(X_test_trial, y_test)"
      ],
      "execution_count": 187,
      "outputs": [
        {
          "output_type": "stream",
          "text": [
            "7178/7178 [==============================] - 4s 503us/step\n"
          ],
          "name": "stdout"
        }
      ]
    },
    {
      "cell_type": "code",
      "metadata": {
        "id": "FU1g9Db_EXkd",
        "colab_type": "code",
        "colab": {
          "base_uri": "https://localhost:8080/",
          "height": 35
        },
        "outputId": "d95a4a2c-f343-4507-da35-4a54e27ebdaf"
      },
      "source": [
        "print(\"Accuracy: \", scores[1]*100, \"%\")"
      ],
      "execution_count": 188,
      "outputs": [
        {
          "output_type": "stream",
          "text": [
            "Accuracy:  14.265812205617292 %\n"
          ],
          "name": "stdout"
        }
      ]
    },
    {
      "cell_type": "code",
      "metadata": {
        "id": "zMFpxJRuEb-w",
        "colab_type": "code",
        "colab": {}
      },
      "source": [
        "top_model.save('mobilenet_epoch10_bs128.h5')"
      ],
      "execution_count": 0,
      "outputs": []
    },
    {
      "cell_type": "code",
      "metadata": {
        "id": "ygfMNlf8Ege3",
        "colab_type": "code",
        "colab": {
          "base_uri": "https://localhost:8080/",
          "height": 35
        },
        "outputId": "f837656f-5142-483c-c12c-809a2d158bc5"
      },
      "source": [
        "y_pred=top_model.predict(X_test_trial,verbose=1)"
      ],
      "execution_count": 190,
      "outputs": [
        {
          "output_type": "stream",
          "text": [
            "7178/7178 [==============================] - 9s 1ms/step\n"
          ],
          "name": "stdout"
        }
      ]
    },
    {
      "cell_type": "code",
      "metadata": {
        "id": "mRGzkVa2E9X_",
        "colab_type": "code",
        "colab": {
          "base_uri": "https://localhost:8080/",
          "height": 311
        },
        "outputId": "9b763abe-bb0c-4a50-9cb9-6633d1c3736c"
      },
      "source": [
        "plot_confusion_matrix(y_test, y_pred, \"mobilenet\")"
      ],
      "execution_count": 191,
      "outputs": [
        {
          "output_type": "display_data",
          "data": {
            "image/png": "[encoded data removed]",
            "text/plain": [
              "<Figure size 432x288 with 2 Axes>"
            ]
          },
          "metadata": {
            "tags": []
          }
        }
      ]
    }
  ]
}